{
  "nbformat": 4,
  "nbformat_minor": 0,
  "metadata": {
    "colab": {
      "provenance": []
    },
    "kernelspec": {
      "name": "python3",
      "display_name": "Python 3"
    },
    "language_info": {
      "name": "python"
    }
  },
  "cells": [
    {
      "cell_type": "markdown",
      "source": [
        "# __Conway's Game of Life__\n",
        ">The Game of Life, also known simply as Life, is a cellular automaton devised by the British mathematician\n",
        ">John Horton Conway in 1970. It is a zero-player game, meaning that its evolution is determined by its initial\n",
        ">state, requiring no further input. One interacts with the Game of Life by creating an initial configuration and\n",
        ">observing how it evolves.\n",
        "> ~ Wikipedia\n",
        "![Gospers_glider_gun.gif](data:image/gif;base64,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)"
      ],
      "metadata": {
        "id": "JD_bG3D8e_UT"
      }
    },
    {
      "cell_type": "markdown",
      "source": [
        "Here, I attempt to programme the game of life with python.\n",
        "Starting off with an m × n rectangular grid of cells, where each cell is either\n",
        "dead or alive, the evolution of the cells in this society proceeds for several generations\n",
        " according to the following rules:\n",
        "1. Only live cells with 2 or 3 neighbours will survive in the next generation. All other live cells die.\n",
        "2. Any dead cell with exactly three live neighbours becomes a live cell in the next generation\n",
        "Note that cells can have up to 8 neighbours, where a neighbour is a cell that is directly adjacent or diagonal\n",
        "to the cell.\n",
        "\n",
        "### In this exercise, I attempted to code the Game of Life __pythonically__ by using Python features such as list comprehension and minimising the number of lines of code where possible."
      ],
      "metadata": {
        "id": "-04KgpYWC3TG"
      }
    },
    {
      "cell_type": "markdown",
      "source": [
        "# Step 1: Building a society\n",
        "I begin creating a function, build_society(), to build an m × n sized society randomly populated with `live (*)` and `dead(-)` cells. \\\n",
        "**Parameters**: \\\n",
        "&nbsp;&nbsp;&nbsp;&nbsp;`m (int)`: The number of rows of the society.  \\\n",
        "&nbsp;&nbsp;&nbsp;&nbsp;`n (int)`: The number of columns of the society. \\\n",
        "    **Returns**: \\\n",
        "&nbsp;&nbsp;&nbsp;&nbsp;the resulting randomly built society."
      ],
      "metadata": {
        "id": "hO63_KV-EoEm"
      }
    },
    {
      "cell_type": "code",
      "execution_count": 40,
      "metadata": {
        "id": "8bAYL85NebLk",
        "colab": {
          "base_uri": "https://localhost:8080/"
        },
        "outputId": "84bba2ba-2ae5-48a2-f3b3-d4f7c22fda3d"
      },
      "outputs": [
        {
          "output_type": "stream",
          "name": "stdout",
          "text": [
            "[['-', '-', '*', '*', '*'], ['*', '*', '*', '*', '*'], ['-', '-', '*', '-', '-']]\n"
          ]
        }
      ],
      "source": [
        "from random import randint\n",
        "def build_society(m: int, n: int) -> list:\n",
        "    l = [['*' if randint(0,1) == 1 else '-' for j in range(n)] for i in range(m)]\n",
        "    return l\n"
      ]
    },
    {
      "cell_type": "markdown",
      "source": [
        "The function build_society returns the generated society in a nested list format, where it is difficult to visualise society properly:"
      ],
      "metadata": {
        "id": "vnWHsPyMrTwG"
      }
    },
    {
      "cell_type": "code",
      "source": [
        "test_society = build_society(3, 5)\n",
        "print(test_society)"
      ],
      "metadata": {
        "colab": {
          "base_uri": "https://localhost:8080/"
        },
        "id": "PRYCpseSrlae",
        "outputId": "4f6f4db5-3ac8-420c-e6a5-beeeef125df1"
      },
      "execution_count": 41,
      "outputs": [
        {
          "output_type": "stream",
          "name": "stdout",
          "text": [
            "[['*', '-', '*', '-', '-'], ['-', '*', '-', '*', '*'], ['*', '*', '-', '-', '*']]\n"
          ]
        }
      ]
    },
    {
      "cell_type": "markdown",
      "source": [
        "Thus, I employ a function which prints the society in its native grid format."
      ],
      "metadata": {
        "id": "2XyutW7BiSOa"
      }
    },
    {
      "cell_type": "code",
      "source": [
        "def print_society(society: list) -> None:\n",
        "    print('\\n'.join([' '.join(row) for row in society]))\n",
        "\n",
        "print_society(test_society)"
      ],
      "metadata": {
        "colab": {
          "base_uri": "https://localhost:8080/"
        },
        "id": "pMfFi6eViQfG",
        "outputId": "d4edc46a-c5fe-4adb-f029-7bd15bac4864"
      },
      "execution_count": 42,
      "outputs": [
        {
          "output_type": "stream",
          "name": "stdout",
          "text": [
            "* - * - -\n",
            "- * - * *\n",
            "* * - - *\n"
          ]
        }
      ]
    },
    {
      "cell_type": "markdown",
      "source": [
        "# Step 2: Modeling the Society\n",
        "I define a function model_society(), where, given a multiline string representing the society, eg.\n",
        "```python\n",
        "'''\n",
        "- * * * -\n",
        "- - - - *\n",
        "* * * * -\n",
        "'''\n",
        "```\n",
        "return a nested list representing the society:\n",
        "```python\n",
        "[['-', '*', '*', '*', '-'],\n",
        " ['-', '-', '-', '-', '*'],\n",
        " ['*', '*', '*', '*', '-']]\n",
        "```\n",
        "The nested list representation of the society would be more readily iterpretable by the functions I define and call later on."
      ],
      "metadata": {
        "id": "qXQ8B7GqgITW"
      }
    },
    {
      "cell_type": "code",
      "source": [
        "def model_society(txt):\n",
        "    l = [i for i in txt.splitlines() if i]\n",
        "    return [[j for j in i if j != ' '] for i in l]"
      ],
      "metadata": {
        "id": "DJjVlyq9gnnx"
      },
      "execution_count": 3,
      "outputs": []
    },
    {
      "cell_type": "markdown",
      "source": [
        "### Testing the model_society() function"
      ],
      "metadata": {
        "id": "Z0nGPZ_YjCFj"
      }
    },
    {
      "cell_type": "code",
      "source": [
        "print(model_society('''\n",
        "- * * * -\n",
        "- - - - *\n",
        "* * * * -\n",
        "'''))"
      ],
      "metadata": {
        "colab": {
          "base_uri": "https://localhost:8080/"
        },
        "id": "RjLX8QZgjKdb",
        "outputId": "75748219-44fc-4941-deca-6d3d798e9302"
      },
      "execution_count": 4,
      "outputs": [
        {
          "output_type": "stream",
          "name": "stdout",
          "text": [
            "[['-', '*', '*', '*', '-'], ['-', '-', '-', '-', '*'], ['*', '*', '*', '*', '-']]\n"
          ]
        }
      ]
    },
    {
      "cell_type": "code",
      "source": [
        "print_society(model_society('''\n",
        "- * * * -\n",
        "- - - - *\n",
        "* * * * -\n",
        "'''))"
      ],
      "metadata": {
        "colab": {
          "base_uri": "https://localhost:8080/"
        },
        "id": "01VpwHb_28QM",
        "outputId": "d1dccd2b-d2a5-415b-a826-153d41bb94af"
      },
      "execution_count": 5,
      "outputs": [
        {
          "output_type": "stream",
          "name": "stdout",
          "text": [
            "- * * * -\n",
            "- - - - *\n",
            "* * * * -\n"
          ]
        }
      ]
    },
    {
      "cell_type": "markdown",
      "source": [
        "# Step 3: Coding the Game-of-Life Rules\n",
        "Given the `cell_value` (True for alive and False for dead), and the `live_neigh` (no. of neighbours alive), the gol function returns a True value if the cell lives in the next generation, and False otherwise."
      ],
      "metadata": {
        "id": "yVBIf-xagpXf"
      }
    },
    {
      "cell_type": "code",
      "source": [
        "def gol(cell_value : bool, live_neigh : int) -> bool :\n",
        "    return (cell_value and live_neigh in (2,3)) or (not cell_value and live_neigh == 3)"
      ],
      "metadata": {
        "id": "OIqKAJb0gxzm"
      },
      "execution_count": 6,
      "outputs": []
    },
    {
      "cell_type": "markdown",
      "source": [
        "### Testing the gol() function"
      ],
      "metadata": {
        "id": "Y1WVhQfrjlFO"
      }
    },
    {
      "cell_type": "code",
      "source": [
        "print(gol(True, 3)) # Since cell is currently alive and has 3 neighbours, it is destined to live\n",
        "print(gol(False, 3)) # Since cell is currently dead with exactly 3 neighbours, it is destined to become alive"
      ],
      "metadata": {
        "colab": {
          "base_uri": "https://localhost:8080/"
        },
        "id": "6Q1aV9eOjobN",
        "outputId": "60abbb34-0bf1-47c2-a0b9-4b354dc91a77"
      },
      "execution_count": 7,
      "outputs": [
        {
          "output_type": "stream",
          "name": "stdout",
          "text": [
            "True\n",
            "True\n"
          ]
        }
      ]
    },
    {
      "cell_type": "markdown",
      "source": [
        "# Step 4: Tabulating Game-of-Life Rules\n",
        "I make a function that displays a list of the possible outcomes of the cell based on whether it is dead or alive. The index of the list corresponds with the number of neighbours."
      ],
      "metadata": {
        "id": "HuLvz_9Eg1jX"
      }
    },
    {
      "cell_type": "code",
      "source": [
        "def tabulate(rules):\n",
        "    l1=['live' if rules(True, i) else 'dead' for i in range(9)]\n",
        "    l2=['live' if rules(False,i) else 'dead' for i in range(9)]\n",
        "    return [('live',l1),('dead',l2)]\n",
        "\n",
        "import pprint as pp\n",
        "pp.pprint(tabulate(gol))\n"
      ],
      "metadata": {
        "colab": {
          "base_uri": "https://localhost:8080/"
        },
        "id": "ZwaX0t3lg5Zh",
        "outputId": "f4544e9a-3840-4672-8dad-1a181bb430e6"
      },
      "execution_count": 17,
      "outputs": [
        {
          "output_type": "stream",
          "name": "stdout",
          "text": [
            "[('live',\n",
            "  ['dead', 'dead', 'live', 'live', 'dead', 'dead', 'dead', 'dead', 'dead']),\n",
            " ('dead',\n",
            "  ['dead', 'dead', 'dead', 'live', 'dead', 'dead', 'dead', 'dead', 'dead'])]\n"
          ]
        }
      ]
    },
    {
      "cell_type": "markdown",
      "source": [
        "# Step 5: Determining a cell's destiny\n",
        "I define a function destiny(society, coordinates, gol) that determines a cell's destiny based on the game of life rules. \\\n",
        "**Parameters**: \\\n",
        "&nbsp;&nbsp;&nbsp;&nbsp;`society      (list)`: The society. \\\n",
        "&nbsp;&nbsp;&nbsp;&nbsp;`coordinates (tuple)`: The tuple representing the coordinates whose destiny is to be determined. \\\n",
        "&nbsp;&nbsp;&nbsp;&nbsp;`gol`                : The game-of-life rules \\\n",
        "    **Returns**: \\\n",
        "&nbsp;&nbsp;&nbsp;&nbsp; the cell's destiny, where `'-'` is a dead cell, and `'*'` is a live cell.\n"
      ],
      "metadata": {
        "id": "wuluYcVtg_zX"
      }
    },
    {
      "cell_type": "code",
      "source": [
        "def destiny(society: list, coordinates: tuple, gol) -> str:\n",
        "    a = coordinates[0]\n",
        "    b = coordinates[1]\n",
        "    live_neigh = 0\n",
        "    cell_value = True if society[a][b] == '*' else False\n",
        "    for i in [a-1,a,a+1]:\n",
        "        if i < 0 or i >= len(society):\n",
        "            continue\n",
        "        for j in [b-1, b, b+1]:\n",
        "            if j < 0 or j >= len(society[0]):\n",
        "                continue\n",
        "            if j == b and i == a:\n",
        "                continue\n",
        "            live_neigh += 1 if society[i][j] == '*' else 0\n",
        "    new_cell_value = '*' if gol(cell_value, live_neigh) else '-'\n",
        "\n",
        "    return new_cell_value"
      ],
      "metadata": {
        "id": "ghK5F1aHhZ9k"
      },
      "execution_count": 9,
      "outputs": []
    },
    {
      "cell_type": "markdown",
      "source": [
        "### Testing the destiny function"
      ],
      "metadata": {
        "id": "04zLecYzyp7L"
      }
    },
    {
      "cell_type": "code",
      "source": [
        "#Build a new society\n",
        "society = build_society(5, 5)\n",
        "print_society(society)"
      ],
      "metadata": {
        "colab": {
          "base_uri": "https://localhost:8080/"
        },
        "id": "gI_ZbdHkytpT",
        "outputId": "f3ced668-9e78-40e2-fa8d-fc6ccdddd1a0"
      },
      "execution_count": 10,
      "outputs": [
        {
          "output_type": "stream",
          "name": "stdout",
          "text": [
            "- - * - -\n",
            "* * - - -\n",
            "* * - * -\n",
            "- * * - *\n",
            "- - - * -\n"
          ]
        }
      ]
    },
    {
      "cell_type": "code",
      "source": [
        "#find the destiny of the cells at (4,1) and (2,3)\n",
        "print(destiny(society, (4, 1), gol))\n",
        "print(destiny(society, (2, 3), gol))"
      ],
      "metadata": {
        "colab": {
          "base_uri": "https://localhost:8080/"
        },
        "id": "hyiJa2FXzkG6",
        "outputId": "b0db2b4f-e2b4-4547-a821-628eb49a914d"
      },
      "execution_count": 11,
      "outputs": [
        {
          "output_type": "stream",
          "name": "stdout",
          "text": [
            "-\n",
            "*\n"
          ]
        }
      ]
    },
    {
      "cell_type": "markdown",
      "source": [
        "# Step 6: Evolving the Society\n",
        "I start with a function that evolevs the society once. \\\n",
        "**Parameters:**  \n",
        "&nbsp;&nbsp;&nbsp;&nbsp;`society (list)`: The society to be evolved.  \n",
        "&nbsp;&nbsp;&nbsp;&nbsp;`gol`: A function encoding game-of-life rules  \n",
        "  \n",
        "**Returns:**  \n",
        "&nbsp;&nbsp;&nbsp;&nbsp;the resulting society as a list"
      ],
      "metadata": {
        "id": "t6efaRQHhegY"
      }
    },
    {
      "cell_type": "code",
      "source": [
        "def evolve_once(society, gol):\n",
        "    l1 = []\n",
        "    for a in range(len(society)):\n",
        "        l2 = []\n",
        "        l1.append(l2)\n",
        "        for b in range(len(society[0])):\n",
        "            cell_value = True if society[a][b] == '*' else False\n",
        "            live_neigh = 0\n",
        "            for i in [a-1,a,a+1]:\n",
        "                if i < 0 or i >= len(society):\n",
        "                    continue\n",
        "                for j in [b-1, b, b+1]:\n",
        "                    if j < 0 or j >= len(society[0]):\n",
        "                        continue\n",
        "                    if j == b and i == a:\n",
        "                        continue\n",
        "                    live_neigh += 1 if society[i][j] == '*' else 0\n",
        "            new_cell_value = '*' if gol(cell_value, live_neigh) else '-'\n",
        "            l2.append(new_cell_value)\n",
        "    return l1\n"
      ],
      "metadata": {
        "id": "eLh_V1s3hp5T"
      },
      "execution_count": 12,
      "outputs": []
    },
    {
      "cell_type": "markdown",
      "source": [
        "## Testing evolve_once\n",
        "I now test elolve_once() function repeatedly on a society that is known to oscillate between 2 states: the bar. If I start off with a vertical bar 3 grid spaces across, in the next ietartion it becomes a horizontal bar, then it goes back to a vertical bar in the next iteraton and the cycle continues indefinitely (assuming no other cells surrounding are present to interupt this cycle."
      ],
      "metadata": {
        "id": "n3TTS-CafCaf"
      }
    },
    {
      "cell_type": "code",
      "source": [
        "bar_society = '''\n",
        "- - - - -\n",
        "- - * - -\n",
        "- - * - -\n",
        "- - * - -\n",
        "- - - - -\n",
        "'''"
      ],
      "metadata": {
        "id": "G1ISKb7jgRkw"
      },
      "execution_count": 31,
      "outputs": []
    },
    {
      "cell_type": "markdown",
      "source": [
        "### Evolving once:"
      ],
      "metadata": {
        "id": "Kpk-_uXLibEw"
      }
    },
    {
      "cell_type": "code",
      "source": [
        "print_society(evolve_once(model_society(bar_society), gol))"
      ],
      "metadata": {
        "colab": {
          "base_uri": "https://localhost:8080/"
        },
        "id": "HuAntEBVidwv",
        "outputId": "1e56c98e-edc1-4430-fedd-6f4d5ecd741f"
      },
      "execution_count": 30,
      "outputs": [
        {
          "output_type": "stream",
          "name": "stdout",
          "text": [
            "- - - - -\n",
            "- - - - -\n",
            "- * * * -\n",
            "- - - - -\n",
            "- - - - -\n"
          ]
        }
      ]
    },
    {
      "cell_type": "markdown",
      "source": [
        "### Evolving twice"
      ],
      "metadata": {
        "id": "beKq4Ztuifj_"
      }
    },
    {
      "cell_type": "code",
      "source": [
        "print_society(evolve_once(evolve_once(model_society(bar_society), gol), gol))"
      ],
      "metadata": {
        "colab": {
          "base_uri": "https://localhost:8080/"
        },
        "id": "M0myg_KHinIH",
        "outputId": "373e49f9-1e8d-4dbb-e923-a8ce72345009"
      },
      "execution_count": 29,
      "outputs": [
        {
          "output_type": "stream",
          "name": "stdout",
          "text": [
            "- - - - -\n",
            "- - * - -\n",
            "- - * - -\n",
            "- - * - -\n",
            "- - - - -\n"
          ]
        }
      ]
    },
    {
      "cell_type": "markdown",
      "source": [
        "### Evolving 3 times..."
      ],
      "metadata": {
        "id": "6kx7XGyfihcS"
      }
    },
    {
      "cell_type": "code",
      "source": [
        "print_society(evolve_once(evolve_once(evolve_once(model_society(bar_society), gol), gol), gol))"
      ],
      "metadata": {
        "colab": {
          "base_uri": "https://localhost:8080/"
        },
        "id": "LrrOAsdCjMqH",
        "outputId": "c596185a-657e-4b5b-95cd-6142c763f4cd"
      },
      "execution_count": 32,
      "outputs": [
        {
          "output_type": "stream",
          "name": "stdout",
          "text": [
            "- - - - -\n",
            "- - - - -\n",
            "- * * * -\n",
            "- - - - -\n",
            "- - - - -\n"
          ]
        }
      ]
    },
    {
      "cell_type": "markdown",
      "source": [
        "### ...and the cycle continues"
      ],
      "metadata": {
        "id": "Ht6bXVKkjkGf"
      }
    },
    {
      "cell_type": "markdown",
      "source": [
        "\n",
        "I now define another function, evolve(society: list, n, gol), which evolves the society by n iterations given the rules in Game Of Life.  It makes use of the previous evolve_once() function as a helper function.\n",
        "\\\n",
        "**Parameters:**  \n",
        "&nbsp;&nbsp;&nbsp;&nbsp;`society (list)`: The society to be evolved.  \n",
        "&nbsp;&nbsp;&nbsp;&nbsp;`n (int)`: The number of evolutions to perform.  \n",
        "&nbsp;&nbsp;&nbsp;&nbsp;`gol`: A function encoding game-of-life rules  \n",
        "  \n",
        "**Returns:**  \n",
        "&nbsp;&nbsp;&nbsp;&nbsp;A tuple consisting of:  \n",
        "&nbsp;&nbsp;&nbsp;&nbsp;&nbsp;&nbsp;(1) resulting society  \n",
        "&nbsp;&nbsp;&nbsp;&nbsp;&nbsp;&nbsp;(2) number of evolutions before arriving at stability*  \\\n",
        "*In cases where society contiues to evolve in all n interations or reaches an oscilaltory state like as demonstrated in the previous vertical/horizontal bar example, then the number of evolutions would also be n.\n",
        "\n"
      ],
      "metadata": {
        "id": "3R_S0Pm14UGu"
      }
    },
    {
      "cell_type": "code",
      "source": [
        "from copy import deepcopy\n",
        "def evolve(society: list, n, gol) -> tuple:\n",
        "    repeat = False\n",
        "    counter = 0\n",
        "    society_list = []\n",
        "    while n != 0:\n",
        "        if counter == 0 and society == [['-']]:\n",
        "            break\n",
        "        society_copy = deepcopy(society)\n",
        "        society_list.append(society_copy)\n",
        "        if counter >= 1 and (society_list[counter] == society_list[counter - 1]):\n",
        "            counter -= 1\n",
        "            break\n",
        "\n",
        "        society = evolve_once(society_list[counter], gol)\n",
        "        n -= 1\n",
        "        counter += 1\n",
        "\n",
        "    return society, counter"
      ],
      "metadata": {
        "id": "kY7ib71K3sVg"
      },
      "execution_count": 13,
      "outputs": []
    },
    {
      "cell_type": "markdown",
      "source": [
        "### Testing evolve()\n",
        "A society with a single dead cell should remain dead indefinitely, even after a million generations:"
      ],
      "metadata": {
        "id": "Pd887USkmFlw"
      }
    },
    {
      "cell_type": "code",
      "source": [
        "evolve([['-']], 1_000_000 ,gol)"
      ],
      "metadata": {
        "colab": {
          "base_uri": "https://localhost:8080/"
        },
        "id": "pqCLhYAamR3G",
        "outputId": "28d2ecaa-3e5f-4549-91c6-add930c472e1"
      },
      "execution_count": 33,
      "outputs": [
        {
          "output_type": "execute_result",
          "data": {
            "text/plain": [
              "([['-']], 0)"
            ]
          },
          "metadata": {},
          "execution_count": 33
        }
      ]
    },
    {
      "cell_type": "markdown",
      "source": [
        "Now, testing the vertical/horizontal bar example:"
      ],
      "metadata": {
        "id": "ENxRm3djma0n"
      }
    },
    {
      "cell_type": "code",
      "source": [
        "evolve(model_society(bar_society), 100, gol)"
      ],
      "metadata": {
        "colab": {
          "base_uri": "https://localhost:8080/"
        },
        "id": "Nnh6utmamfFG",
        "outputId": "210b626c-5c20-4f42-a20b-a47b58576bf0"
      },
      "execution_count": 35,
      "outputs": [
        {
          "output_type": "execute_result",
          "data": {
            "text/plain": [
              "([['-', '-', '-', '-', '-'],\n",
              "  ['-', '-', '*', '-', '-'],\n",
              "  ['-', '-', '*', '-', '-'],\n",
              "  ['-', '-', '*', '-', '-'],\n",
              "  ['-', '-', '-', '-', '-']],\n",
              " 100)"
            ]
          },
          "metadata": {},
          "execution_count": 35
        }
      ]
    },
    {
      "cell_type": "markdown",
      "source": [
        "We still see a bar, and even after 100 iteratons it has still not reached stability. :"
      ],
      "metadata": {
        "id": "07hxmivJm32u"
      }
    },
    {
      "cell_type": "markdown",
      "source": [
        "Now, I create a large random society 50 by 50 in dimension:"
      ],
      "metadata": {
        "id": "Sotm-yXRpxzP"
      }
    },
    {
      "cell_type": "code",
      "source": [
        "large_society = build_society(50, 50)\n",
        "print_society(large_society)"
      ],
      "metadata": {
        "colab": {
          "base_uri": "https://localhost:8080/"
        },
        "id": "mB3ddkMLp5m_",
        "outputId": "7a90d0e6-26f8-4ba1-cb9f-31c2a1e41ff4"
      },
      "execution_count": 48,
      "outputs": [
        {
          "output_type": "stream",
          "name": "stdout",
          "text": [
            "- - - * * - * - * * - - - - * - * * - - - - * - - * * * - * * - - * - * - * - * * * - * * - * - - -\n",
            "- - * - - - - * * - - * * - * * - - * * - * - * - * - * * - * - * - - - * * - * - - * - - * * * * -\n",
            "* * * - - * * * - - - * - * - * * - * * - * * - - - * - * - - - * - * * * - - * * * - - * * * - * *\n",
            "* * - - - * * * - - * - * * - * - * * * - * - * * * - * - * * * - - * - - * - - - - * * - - - - * *\n",
            "* - - - - - * * - * - - - - - - - - * * - * * - - * * - - - * * * * * * - * * - - - * - * - - * - -\n",
            "* * * - - - * * * - - - - - * * - * * - - - * * * - - * - - * - * - - - * * * - * * - * * - - - * *\n",
            "- * * - * - * * * * - * * - - - - * * * - - * * - * * - - - * - - * * * * * * * - * * * - * * - - -\n",
            "- * * - * * * * * - * * - * - * * * - * * * - * * * - - * - * - * - * * - - * - - - - * - - - * - -\n",
            "* * * * - * - - * - * - - * - - - * * - - * * - * - * * - * - * - * - * * - - * - - * - - - - - * -\n",
            "- - * - - - - * * * - * - - - * - * * - - * * - - * - - - - * - - * * * * * - - - - * * * * - - - -\n",
            "* * - * - - - * - * * * * * - * - * - * * - - - * * * * * - * - * * * * * - - - - * * * - - - - * *\n",
            "- - * - - * - * * - - - - * - - * * - * - - - - * * * - - - * - * - * - - - * * - - - - * - * * - -\n",
            "* - - * - * - - * - - - - - - * * * - * * * - * - - * * - - * - - - * - * - - * * * * - - * - - - *\n",
            "- * * - * - - - - * - - - - * * * * - * - * * * * - - - - * * * - * - * - - * * - * - - * - - - * *\n",
            "* - * * * * - - * * - - * * - - - * * - - - - - - * - * * - * * - - * - - * - * - - - - * - - * * -\n",
            "* - - - - * - * * - - - * - - - * * - * - - - - - * - - - - * - - * * * * - * - - * * * * * * * - *\n",
            "* - - * * - - * - - - - - - - * * - - * * - - * * * * * - - * - - * - - * * - - - - * * * - * - - -\n",
            "* * * - - - * - - - * - - - * * - - - - - * - - * * - * - - * * - - * * - * * - - - * * * * * * - *\n",
            "- - - - - * - * - - * * - - * * * * - - * * - * - - - - * - - * - - * - - * * - - * * * * - - - * *\n",
            "* - - - - * - * * * * * - * * - * * - * * - * - - * - - - - * * - - * - - - * * - - - - - - * * - -\n",
            "* - - * * - * - * * - - - - - * - * * * - - - * * - * - * - * * - * - - - * - * - * - - * - * * * *\n",
            "- - - - - * - * * * * * * - * - - * * - * * * - - - - - - - - * * * * * - - * * - * * - - - * - * -\n",
            "* - * - * - - - * - - - - - - - - - - * * - - * - * - - * - * - * - - - - * * - - * * - * * - * * -\n",
            "* - * * - * - - - - - * - * - - - * - * - * * - - * * * * - * - - - - - * - - * * * - - * - * - * *\n",
            "* - * - * - - * * - * * * - * * - - - * * * - * - * - - - * - * - - * * - - * * - * * * * - * * - -\n",
            "- - * * - - - - * - - * * * - - * - - * - - - - * - * * - - * - - - - - * - - * * * * * * * - - - *\n",
            "- * - * - - - * - * * * * - * - * - * * * - - - * * - * * - - - * - * * - * * * * * - * * - * - * -\n",
            "- * - * - - - - * - * - * - - * * * - - * * - - - * * - * - * - - - * * - * * - * - - - * - - * - -\n",
            "* - - * - - - - * - * * * - * * * - * * - * * * * - - - * * * * - * * * - * * * - - * - - * * * * -\n",
            "- - * - - * * * * - * * - - * * * * * * * * * - - * * - * - - * - - * - - - * - - * * * * - * - - -\n",
            "- * - - - - - * - * - * * - * - * - * * - * * - * * - * - - - - - * - * - * - * * - - - * - * * * *\n",
            "- * * - * - * * * - * - * * - * - * * * * * * - - * - - - - - - - - * * - - * * - - - - - - - * - *\n",
            "* * - * - - - - * * - - * * - - - - * - - - - * - * * - - - - * - - * * * - - - - * - - - * * - - *\n",
            "- * - - - - - * - * - - - - - - - * - * - * - - - - * - - * * * - * * - * * - * - - - * * - * * * *\n",
            "- * * - - * * - - - - * - - - - - - - - * - * * - * - * * - * - - - - * - - - * - - * - * - - - * *\n",
            "* - * * * - * - - * - * - * - - * * - - * - - * - * * - * - * - * * - * * - - * - * - - * * - - - -\n",
            "- * - - * * - * - * - * * * * * * * - - * * * * - * - - * * * * * * * * * - - * * - - - - * * - * *\n",
            "- - * - * * * * - * - - - - * - - * * * - - * - - * - * * - * - * - - * - - - - - * * - * * - * - -\n",
            "* - * - - * * * * * * - - * - * - - * - - - - - * * - - - * * - - - - * * * * * * * - * * - - - * *\n",
            "* * * * - * * - - - * - - - - - * * * * * * * * - * * * - - - - * * * * * - * * * - - * - * - * - *\n",
            "* - * * * - * - - - * - * - - - * - - - - - * * - - * * - - - * - * - * - - * * * * * - - - * * * -\n",
            "* - - * - * - - - * - * - - - - - * * * - - * - * - - - - * - * - - - - - * - - - * - - * - * * - -\n",
            "* - * * - - - * - - * * * * * * * - - - * - * * * * - - - * - * - * * - - - * - - - - - * * * - - -\n",
            "* * - * * - - - - - * - * - * - - - - * - - - * * * - - * - - * - * * * * - - * - - * * - * * * * *\n",
            "- - - - * * - - - - * - * * * - * * - * * - * - * - - * - * * * * - - - - - * * - - * * - - * - - *\n",
            "* - * * * * - * * * - - * - * * * - * * * * * * - - - * * - * * - * * - - - * * * - * - * - * - - *\n",
            "* - - - * - * - * * * - * - - - - - * * - * - * * - - - * * - - * - * - - * * - - * * * * * - * * *\n",
            "- * - * * * - - * - - * - * - - - - - * * * - * * - * * * * - - * * * * * - - - * - - * * - - - - -\n",
            "- * * - * - * * * * - * * - * - * - - * - * - - - - - - - * * - * * * * - - - * - * * - * * - - * *\n",
            "- - - - - * - - - * - * * - - * - - * - - * * - * * - * - - * * * * - * * - * - * * - * - - - - * -\n"
          ]
        }
      ]
    },
    {
      "cell_type": "markdown",
      "source": [
        "And observe what happens to the society after 100 evolutions"
      ],
      "metadata": {
        "id": "UuuF_n2fqLlO"
      }
    },
    {
      "cell_type": "code",
      "source": [
        "print(\"number of iterations: \", evolve(large_society, 100, gol)[1])\n",
        "print_society(evolve(large_society, 100, gol)[0])"
      ],
      "metadata": {
        "colab": {
          "base_uri": "https://localhost:8080/"
        },
        "id": "kYFIvEVhqQOV",
        "outputId": "792f0ae6-7a88-4e54-f1ff-51878420926c"
      },
      "execution_count": 49,
      "outputs": [
        {
          "output_type": "stream",
          "name": "stdout",
          "text": [
            "number of iterations:  100\n",
            "- - - - - - - - - - - - - - - - - * * - - - - - - - - - - - - - - - - - - - - - - - - - - - - - - -\n",
            "- - - - - - * - - - * - - - - - - * * - - - - - - - - - - - - - - - - - - - - - - - - - - - - - - -\n",
            "- - - - - * * - - - * * * - - - - * - * - - - - - - - - - - - - - - - - - - - - - - - - - - - - - -\n",
            "- - - - * * - - - - - * - * - - - - - - - - - - - - - - - - - - - - - - - - - - - - - - - - - - - -\n",
            "- - - - - - - * * - - * * - - - - * - - - - - - - - - - - - - - - - - - * * - - - - - - - - - - - -\n",
            "- - - - - - - * * * * * - - - - - - * * - - - - - - - - - - - - - - - - * * - - - - - - - - - - - -\n",
            "- - - - - - * * * * * * - - - - - - - - * - - - - - - - - - - - - - - - - - - - - - - - - - - - - -\n",
            "- - - - - - - * * * - * - - - - - - - * * - - - - - - - - - - - - - - - - - - - - - - - - - - - - -\n",
            "- - - - - - - - * * - * * - - - - - - - - - - - - - - - - - - - - - - - - - * - - - - - * - - - - -\n",
            "- - - - - - - - - * * * - - - - - - - - - - - - - - - - - - - - - - - - * - * * * * - * * * * - - -\n",
            "- - - - - - - - - - * - - - - - - - - - - - - - - - - - - - - - - - - - * - - - - - - - - * * * - -\n",
            "- - - - - - - - - - - - - - - * * - - - - - - - - - - - - - - - - - - - - * * * - - - * * * - - * -\n",
            "- - - - - - - - - - - - - - - * * - - - - - - - - - - - - - - - - - - - - - - * - * - - - * - * - -\n",
            "- - - - - - * - - - - * * - - * * * - - - - - - - - - - - - - - - * * * - - - - - - - * - - - - - -\n",
            "- - - - - * - * - - * * * - * * - - - - * * - - - - - - - - - - - * - - * * - - - - - - - - - - - -\n",
            "- - - - - * - * - - - * * - - - - * * - * * * - - - - - - - - - * - * - * * - - - - - - * * - - * *\n",
            "- - - - - - * - - - - - - - - * * * - - * * - - - - - - - - - - * - - - - - - - - - - - - - - - * *\n",
            "- - - - - - - - - - - - - - - - * * - - - - - - - - - - - - - * * - * * * - - - - - - - - - - - - -\n",
            "- - - - - - - - - - - - - - - - * * - - - - - - - - - - - - - - - * - * * * * - - - - - - - - - - -\n",
            "- - - - - - - - - - - - - - - - - - - - - - - - - - - - - - - - - - - - - * * - - - - - - - - - - -\n",
            "- - - - - - - - - - - - - - - - - - - - - - - - - - - - - - - - - - - - * * - - - * - - - - - - - -\n",
            "- - - - - - - - - - - - - - - - - - - - - - - - - - - - - - - - - - - - * * * * - * - - - - - - - -\n",
            "- - - - - - - - - * * - - - - - - - - - - - - - - - - - - - - - - - - * * * - * * * - - - - - - - -\n",
            "- - - - - - - - - * * - - - - - - - - - - - - - - - - - - - - - * * * * - - - - - - - - - - - - - -\n",
            "- - - - - - - - - - - - - - - - * - - - - - - - - - - - - - - - * * - * * - - - - - - - - * * - - -\n",
            "- - - - - - - - - - - - - - - * - * - - - - - - - - - - - - - - - * * * * - - - - - - - - * * - - -\n",
            "- - - - - - - - * * - - - - - * - - * - - - - - - - - - - - * * - * - - * - - - - - - - - - - - - -\n",
            "- - - - - - - - * * - - - - - - * * - - - - - * * - - - - - * * - * * * - - - - - - - - - - - - - -\n",
            "- - - - - - - - - - - - - - - - - - - - - - - - - - - - - - - * * * * - - - - - - - - - - - - - - -\n",
            "- - - - - - - - - - - - - - - - - - - - - - - - - - - - - - - - - - - - - - - - - * * - - - - - - -\n",
            "- - - - - - - - - - - - - - - - - - - - - - - - - - - - - - - - - - - - - - - - - * * - - - - - - -\n",
            "- - - - - - - - - - - - - - - - - - - - - - - - - - - - - - - - - - - - - - - - - - - - - - - - - -\n",
            "- - - - - - - - - - - - - - - - - - - - - - - - - - - - - - - - - - - - - - - - - - - - - - - - - -\n",
            "- - - - - - - - - - - - - - - - - - - - - - - - - - - - - - - - - - - - - - - - - - - - - - - - - -\n",
            "- - - - - - - - - - - - - - - - - - - - - - - - - - - - - - - - - - - - - - - - - - - - - - - - - -\n",
            "- - - - - - - - - - - - - - - - - - - - - - - - - * * - - - - - - - - - - - - - - - - - - - - - - -\n",
            "- - - - - - - - - - - - - - - - - - - - - - - - * - - * - - - - - - - - - - - - - - - - - - - - - -\n",
            "- - - - - - - - - - - - - - - - - - - - - - - - - * * - - - - - - - - - - - - - - - - - - - - - - -\n",
            "- - - - - - - - - - - - - - - - - - - - - - - - - - - - - - - - - - - - - - - - - - - - - - - - - -\n",
            "- - - - - - - - - - - - - - - - - - - - - - - - - - - - - - - - - - - - - - - - - - - - - - - - - -\n",
            "* * - - - - - - - - - - - - - - - - - - - - - - - - - - - - - - - - - - - - - - - - - - - - - - - -\n",
            "* * - - - - - - - - * - - - - - - - - - - - - - - - - - - - - - - - - - - - - - - - - - - - - - - -\n",
            "- - - - - - - - - * - - - - - - - - - - - - - - - - - - - - - - - - - - - - - - - - - - - - - - - -\n",
            "- - - - - - - - - - - - - - - - - - - - - - - - - - - - - - - - - - - - - - - - - - - - - - - - - -\n",
            "- - - - - - - - - - - - - - - - - - - - - - - - - - - - - - - - - - - - - - - - - - - - - - - - - -\n",
            "- - - - - - - - - - - - - - - - - - - - - - - - - - - - - - - - - - - - - - - - * * - - - - - - - -\n",
            "- - - - - - - - - - - - - - - - - - - - - - - - - - - - - - - - - - - - - - - - * - * - - * * - - -\n",
            "- - - - - - - - - - - - - - - - - - - - - - - - - - - - - - - - - - - - - - - - - * - - * - - * - -\n",
            "- - - - * - - - * - - - - - - - - - - - - - - - - - - - - - - - - - - - - - - - - - - - - * - * - -\n",
            "- - - - * - * * * - - - - - - - - - - - - - - - - - - - - - - - - - - - - - - - - - - - - - * - - -\n"
          ]
        }
      ]
    },
    {
      "cell_type": "markdown",
      "source": [
        "Amazingly, starting from a randomly generated starting society, some clear structures have begun to emerge after 100 iterations!\n",
        "Now I'll try a 1000 iterations:"
      ],
      "metadata": {
        "id": "g2_joJDas7-u"
      }
    },
    {
      "cell_type": "code",
      "source": [
        "print(\"number of iterations: \", evolve(large_society, 1000, gol)[1])\n",
        "print_society(evolve(large_society, 1000, gol)[0])"
      ],
      "metadata": {
        "colab": {
          "base_uri": "https://localhost:8080/"
        },
        "id": "yrI2RFvitOA-",
        "outputId": "546a968c-25a4-40fa-d65f-0ab24a020dc2"
      },
      "execution_count": 50,
      "outputs": [
        {
          "output_type": "stream",
          "name": "stdout",
          "text": [
            "number of iterations:  1000\n",
            "- - - - - - - - - - - - - - - - - - - - - - - - - - - - - - - - - - - - - - - - - - - - - - - - - -\n",
            "- - - - - - - - - - - - - - - - - - - - - - - - - - - - - - - - - - - - - - - - - - - - - - - - - -\n",
            "- - - - - - - - - - - - - - - - - - - - - - - - - - - - - - - - - - - - - - - - - - - - - - - - - -\n",
            "- - - - - - - - - - - - - - - - - - - - - - - - - - - - - - - - - - - - - - - - - - - - - - - - - -\n",
            "- - - - - - - - - - - - - - - - - - - * * - - - - - - - - - - - - - - - - - - - - - - - - - - - - -\n",
            "- - - - - - - - - - - - - - - - - - - * * - - - - - - - - - - - - - - - - - - - - - - - - - - - - -\n",
            "- - - - - - - - - - - - - - - - - - - - - - - - - - - - - - - - - - - - - - - - - - - - - - - - - -\n",
            "- - - - - - - - - - - - - - - - - - - - - - - - - - - - - - - - - - - - - - - - - - - - - - - - - -\n",
            "- - - - - - - - - - - - - - - - - - - - - - - - - - - - - - - - - - - - - - - - - - - - - - - - - -\n",
            "- - - - - - - - - - - - - - - - - - - - - - - - - - - - - - - - - - - - - - - - - - - - - - - - - -\n",
            "- - - - - - - - - - - - - - - - - - - - - - - - - - - - - - - - - - - - - * * - - - - - - - - - - -\n",
            "- - - - - - - - - - - - - - - - - - - - - - - - - - - - - - - - - - - - * - - * - - - - - - - - - -\n",
            "- - - - - - - - - - - - - - - - - - - - - - - - - - - - - - - - - - - - - * - * - - - - - - - - - -\n",
            "- - - - - - - - - - - - - - - - - - - - - - - - - - - - - - - - - - - - - - * - - - - - - - - - - -\n",
            "- - - - - - - - - - - - - - - - - - - - - - - - - - - - - - - - - - - - - - - - - - - - - - - - - -\n",
            "- - - - - - - - - - - - - - - - - - * - - - - - - - - - - - - - - - - - - - - - - - - - - - - - - -\n",
            "- - - - - - - - - - - - - - - - - - * - - - - - - - - - - - - - - - - - - - - - - - - - - - - - - -\n",
            "- - - - - - * * - - - - - - - - - - * - - - - - - - - - - - - - - - - - - - - - - - - - - - - - - -\n",
            "- - - - - - * * - - - - - - - - - - - - - - - - - - - - - - - - - - - - - - - - - - - - - - - - - -\n",
            "- - - - - - - - - - - - - - - - - - - - - - - - - - - - - - - - - - - - - - - - - - - - - - - - - -\n",
            "- - - - - - - - - - - - - - - - - - - - - - - - - - - - - - - - - - - - - - - - - - - - - - - - - -\n",
            "- - - - - - - - - - - - - - - - - - - - - - - - - - - - - - - - - - - - - - - - - - - - - - - - - -\n",
            "- - - - - - - - - - - - - - - - - - - - - - - - - - - - - - - - - - - - - - - - - - - - - - - - - -\n",
            "- - - - - - - - - - - - - - - - - - - - - - - - - - - - - - - - - - - - - - - - - - - - - - - - - -\n",
            "- - - - - - - - - - - - - - - - * - - - - - - - - - - - - - - - - - - - - - - - - - - - - - - - - -\n",
            "- - - - - - - - - - - - - - - * - * - - - - - - - - - - - - - - - - - - - - - - - - - - - - - - - -\n",
            "- - - - - - - - * * - - - - - * - - * - - - - - - - - - - - - - - - - - - - - - - - - - - - - - - -\n",
            "- - - - - - - - * * - - - - - - * * - - - - - - - - - - - - - - - - - - - - - - - - - - - - - - - -\n",
            "- - - - - - - - - - - - - - - - - - - - - - - - - - - - - - - - - - - - - - - - - - - - - - - - - -\n",
            "- - - - - - - - - - - - - - - - - - - - - - - - - - - - - - - - - - - - - - * * * - - - - - - - - -\n",
            "- - - - - - - - - - - - - - - - - - - - - - - - - - - - - - - - - - - - - - - - - - - - - - - - - -\n",
            "- - - - - - - - - - - - - - - - - - - - - - - - - - - - - - - - - - - - * - - - - - * - - - - - - -\n",
            "- - - - - - - - - - - - - - - - - - - - - - - - - - - - - - - - - - - - * - - - - - * - - - - - - -\n",
            "- - - - - - - - - - - - - - - - - - - - - - - - - - - - - - - - - - - - * - - - - - * - - - - - - -\n",
            "- - - - - - - - - - - - - - - - - - - - - - - - - - - - - - - - - - - - - - - - - - - - - - - - - -\n",
            "- - - - - - - - - - - - - - - - - - - - - - - - - * * - - - - - - - - - - - * * * - - - - - - - - -\n",
            "- - - - - - - - - - - - - - - - - - - - - - - - * - - * - - - - - - - - - - - - - - - - - - - - - -\n",
            "- - - - - - - - - - - - - - - - - - - - - - - - - * * - - - - - - - - - - - - - - - - - - - - - - -\n",
            "- - - - - - - - - - - - - - - - - - - - - - - - - - - - - - - - - - - - - - - - - - - - - - - - - -\n",
            "- - - - - - - - - - - - - - - - - - - - - - - - - - - - - - - - - - - - - - - - - - - - - - - - - -\n",
            "* * - - - - - - - - - - - - - - - - - - - - - - - - - - - - - - - - - - - - - - - - - - - - - - - -\n",
            "* * - - - - - - - - - - - - - - - - - - - - - - - - - - - - - - - - - - - - - - - - - - - - - - - -\n",
            "- - - - - - - - - - - - - - - - - - - - - - - - - - - - - - - - - - - - - - - - - - - - - - - - - -\n",
            "- - - - - - - - - - - - - - - - - - - - - - - - - - - - - - - - - - - - - - - - - - - - - - - - - -\n",
            "- - - - - - - - - - - - - - - - - - - - - - - - - - - - - - - - - - - - - - - - - - - - - - - - - -\n",
            "- - - - - - - - - - - - - - - - - - - - - - - - - - - - - - - - - - - - - - - - * * - - - - - - - -\n",
            "- - - - - - - - - - - - - - - - - - - - - - - - - - - - - - - - - - - - - - - - * - * - - * * - - -\n",
            "- - - - - - - - - - - - - - - - - - - - - - - - - - - - - - - - - - - - - - - - - * - - * - - * - -\n",
            "- - - - - - - - - - - - - - - - - - - - - - - - - - - - - - - - - - - - - - - - - - - - - * - * - -\n",
            "- - - - - - - - - - - - - - - - - - - - - - - - - - - - - - - - - - - - - - - - - - - - - - * - - -\n"
          ]
        }
      ]
    }
  ]
}
